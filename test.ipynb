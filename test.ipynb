{
 "cells": [
  {
   "cell_type": "code",
   "execution_count": 2,
   "metadata": {},
   "outputs": [
    {
     "data": {
      "text/plain": [
       "AIMessage(content=\"Hello! I'm happy to help you with the prices of products.\\n\\nWhat product are you interested in getting the price for?\", response_metadata={'model': 'llama3:instruct', 'created_at': '2024-05-04T07:52:13.113353Z', 'message': {'role': 'assistant', 'content': ''}, 'done': True, 'total_duration': 4646683583, 'load_duration': 7073125, 'prompt_eval_count': 105, 'prompt_eval_duration': 3813904000, 'eval_count': 26, 'eval_duration': 814543000}, id='run-4a724cba-bfcf-427c-9f91-ad96d8c9a060-0')"
      ]
     },
     "execution_count": 2,
     "metadata": {},
     "output_type": "execute_result"
    }
   ],
   "source": [
    "from langchain_community.chat_models import ChatOllama\n",
    "from langchain_core.prompts import ChatPromptTemplate\n",
    "from langchain_core.runnables import RunnablePassthrough\n",
    "\n",
    "model = ChatOllama(model=\"llama3:instruct\")\n",
    "\n",
    "prompt_template = \"\"\"You are a E-shopping assistant chatbot to help costumers get the price of their desired products. \n",
    "Respond should be based the following context, just respond we don't have the price of the product if it is not listed in the context.\n",
    "<Context>\n",
    "product: apple , price: $1.29\n",
    "product: samsung s20 , price: $2.49\n",
    "product: iphone 12 , price: $10.99\n",
    "</Context>\n",
    "ANSWER:\n",
    "\"\"\"\n",
    "\n",
    "prompt = ChatPromptTemplate.from_template(template=prompt_template)\n",
    "\n",
    "chain = {\"input\": RunnablePassthrough()} |prompt | model\n",
    "\n",
    "res = chain.invoke(\" what is the price of iphone 12?\")\n"
   ]
  }
 ],
 "metadata": {
  "kernelspec": {
   "display_name": "rag",
   "language": "python",
   "name": "python3"
  },
  "language_info": {
   "codemirror_mode": {
    "name": "ipython",
    "version": 3
   },
   "file_extension": ".py",
   "mimetype": "text/x-python",
   "name": "python",
   "nbconvert_exporter": "python",
   "pygments_lexer": "ipython3",
   "version": "3.10.14"
  }
 },
 "nbformat": 4,
 "nbformat_minor": 2
}
